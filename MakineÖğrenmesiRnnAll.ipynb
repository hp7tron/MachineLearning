{
 "cells": [
  {
   "cell_type": "code",
   "execution_count": 1,
   "metadata": {},
   "outputs": [],
   "source": [
    "from sklearn.model_selection import train_test_split\n",
    "from sklearn.metrics import classification_report, confusion_matrix"
   ]
  },
  {
   "cell_type": "code",
   "execution_count": 79,
   "metadata": {},
   "outputs": [],
   "source": [
    "csvname ='stsGold.txt'\n",
    "data  = pd.read_csv(csvname ,sep=',' , engine='python')\n",
    "sentences= data.iloc[:,:-1]\n",
    "labels=data['twitLabels']"
   ]
  },
  {
   "cell_type": "code",
   "execution_count": 53,
   "metadata": {},
   "outputs": [],
   "source": [
    "import pandas as pd \n",
    "#tweetdata.csv\n",
    "#calisirmilan.csv   nan değerler silindi   Dense = 20 verilmeli etiket sayımız 20 batch_size=4096 al\n",
    "#tweetdata2.csv sep=; parametresini kaldır \n",
    "\n",
    "csvname ='3KTweet.csv'\n",
    "data  = pd.read_csv(csvname,sep=',', header =None, engine='python')\n",
    "data.columns=['cumle','etiket']\n"
   ]
  },
  {
   "cell_type": "code",
   "execution_count": 54,
   "metadata": {},
   "outputs": [],
   "source": [
    "from keras.preprocessing.text import Tokenizer \n",
    "from keras.preprocessing.sequence import pad_sequences as ps \n",
    "num_words = 1000\n",
    "tkn       = Tokenizer(num_words = num_words, split=\" \")\n",
    "tkn.fit_on_texts(data['cumle'].values)\n",
    "sentences = tkn.texts_to_sequences(data['cumle'].values)\n",
    "sentences = ps(sentences,maxlen=100)\n"
   ]
  },
  {
   "cell_type": "code",
   "execution_count": 80,
   "metadata": {},
   "outputs": [
    {
     "name": "stdout",
     "output_type": "stream",
     "text": [
      "[[1. 0.]\n",
      " [1. 0.]\n",
      " [1. 0.]\n",
      " ...\n",
      " [1. 0.]\n",
      " [1. 0.]\n",
      " [1. 0.]]\n"
     ]
    }
   ],
   "source": [
    "from sklearn import preprocessing\n",
    "from keras.utils import to_categorical\n",
    "labels = [ doc for doc in data.iloc[:,1]]\n",
    "y = preprocessing.LabelEncoder().fit_transform(labels)\n",
    "labels = to_categorical(y)\n",
    "print(labels)"
   ]
  },
  {
   "cell_type": "code",
   "execution_count": null,
   "metadata": {},
   "outputs": [],
   "source": [
    "from sklearn.model_selection import train_test_split\n",
    "X_train,X_test,y_train,y_test=train_test_split(sentences,labels,test_size=0.20,random_state=38)"
   ]
  },
  {
   "cell_type": "code",
   "execution_count": null,
   "metadata": {},
   "outputs": [],
   "source": [
    "from keras.models import Sequential\n",
    "from keras.layers import Dense , Embedding, SimpleRNN, Dropout\n",
    "model=Sequential()\n",
    "model.add(Embedding(num_words,256,input_length=sentences.shape[1]))\n",
    "model.add(SimpleRNN(256,activation ='tanh',return_sequences= True ))\n",
    "model.add(SimpleRNN(256,activation ='tanh'))\n",
    "model.add(Dense(2,activation ='softmax'))"
   ]
  },
  {
   "cell_type": "code",
   "execution_count": null,
   "metadata": {},
   "outputs": [],
   "source": [
    "model.compile(loss='binary_crossentropy', optimizer='adam',metrics=['accuracy'])\n",
    "model.summary()"
   ]
  },
  {
   "cell_type": "code",
   "execution_count": null,
   "metadata": {},
   "outputs": [],
   "source": [
    "t=model.fit(X_train, y_train, batch_size=256, epochs=10,validation_data=(X_test, y_test))"
   ]
  },
  {
   "cell_type": "code",
   "execution_count": null,
   "metadata": {},
   "outputs": [],
   "source": []
  },
  {
   "cell_type": "code",
   "execution_count": null,
   "metadata": {},
   "outputs": [],
   "source": [
    "#tanh            stsgold \n",
    "#relu 0.56 -- 0.57"
   ]
  },
  {
   "cell_type": "code",
   "execution_count": null,
   "metadata": {},
   "outputs": [],
   "source": [
    " "
   ]
  },
  {
   "cell_type": "code",
   "execution_count": null,
   "metadata": {},
   "outputs": [],
   "source": []
  },
  {
   "cell_type": "code",
   "execution_count": null,
   "metadata": {},
   "outputs": [],
   "source": []
  }
 ],
 "metadata": {
  "kernelspec": {
   "display_name": "Python 3",
   "language": "python",
   "name": "python3"
  },
  "language_info": {
   "codemirror_mode": {
    "name": "ipython",
    "version": 3
   },
   "file_extension": ".py",
   "mimetype": "text/x-python",
   "name": "python",
   "nbconvert_exporter": "python",
   "pygments_lexer": "ipython3",
   "version": "3.7.6"
  }
 },
 "nbformat": 4,
 "nbformat_minor": 4
}
