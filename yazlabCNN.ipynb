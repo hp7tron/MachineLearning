{
 "cells": [
  {
   "cell_type": "code",
   "execution_count": 1,
   "metadata": {},
   "outputs": [
    {
     "name": "stderr",
     "output_type": "stream",
     "text": [
      "Using TensorFlow backend.\n",
      "/Users/hp7tron/opt/anaconda3/lib/python3.7/site-packages/tensorflow/python/framework/dtypes.py:526: FutureWarning: Passing (type, 1) or '1type' as a synonym of type is deprecated; in a future version of numpy, it will be understood as (type, (1,)) / '(1,)type'.\n",
      "  _np_qint8 = np.dtype([(\"qint8\", np.int8, 1)])\n",
      "/Users/hp7tron/opt/anaconda3/lib/python3.7/site-packages/tensorflow/python/framework/dtypes.py:527: FutureWarning: Passing (type, 1) or '1type' as a synonym of type is deprecated; in a future version of numpy, it will be understood as (type, (1,)) / '(1,)type'.\n",
      "  _np_quint8 = np.dtype([(\"quint8\", np.uint8, 1)])\n",
      "/Users/hp7tron/opt/anaconda3/lib/python3.7/site-packages/tensorflow/python/framework/dtypes.py:528: FutureWarning: Passing (type, 1) or '1type' as a synonym of type is deprecated; in a future version of numpy, it will be understood as (type, (1,)) / '(1,)type'.\n",
      "  _np_qint16 = np.dtype([(\"qint16\", np.int16, 1)])\n",
      "/Users/hp7tron/opt/anaconda3/lib/python3.7/site-packages/tensorflow/python/framework/dtypes.py:529: FutureWarning: Passing (type, 1) or '1type' as a synonym of type is deprecated; in a future version of numpy, it will be understood as (type, (1,)) / '(1,)type'.\n",
      "  _np_quint16 = np.dtype([(\"quint16\", np.uint16, 1)])\n",
      "/Users/hp7tron/opt/anaconda3/lib/python3.7/site-packages/tensorflow/python/framework/dtypes.py:530: FutureWarning: Passing (type, 1) or '1type' as a synonym of type is deprecated; in a future version of numpy, it will be understood as (type, (1,)) / '(1,)type'.\n",
      "  _np_qint32 = np.dtype([(\"qint32\", np.int32, 1)])\n",
      "/Users/hp7tron/opt/anaconda3/lib/python3.7/site-packages/tensorflow/python/framework/dtypes.py:535: FutureWarning: Passing (type, 1) or '1type' as a synonym of type is deprecated; in a future version of numpy, it will be understood as (type, (1,)) / '(1,)type'.\n",
      "  np_resource = np.dtype([(\"resource\", np.ubyte, 1)])\n"
     ]
    }
   ],
   "source": [
    "from keras.preprocessing.sequence import pad_sequences\n",
    "from sklearn.preprocessing import StandardScaler\n",
    "from sklearn import preprocessing\n",
    "from keras.utils import to_categorical\n",
    "import pandas as pd"
   ]
  },
  {
   "cell_type": "code",
   "execution_count": 2,
   "metadata": {},
   "outputs": [
    {
     "name": "stdout",
     "output_type": "stream",
     "text": [
      "          0    1    2  3\n",
      "0        74   85  123  1\n",
      "1        73   84  122  1\n",
      "2        72   83  121  1\n",
      "3        70   81  119  1\n",
      "4        70   81  119  1\n",
      "...     ...  ...  ... ..\n",
      "245052  163  162  112  2\n",
      "245053  163  162  112  2\n",
      "245054  163  162  112  2\n",
      "245055  163  162  112  2\n",
      "245056  255  255  255  2\n",
      "\n",
      "[245057 rows x 4 columns]\n"
     ]
    }
   ],
   "source": [
    "data = pd.read_csv(\"skindataset.txt\",header=None ,sep='\\t', engine='python')\n",
    "print(data)\n"
   ]
  },
  {
   "cell_type": "code",
   "execution_count": 3,
   "metadata": {},
   "outputs": [
    {
     "name": "stdout",
     "output_type": "stream",
     "text": [
      "(245057, 3)\n"
     ]
    }
   ],
   "source": [
    "sentences_training = data.iloc[:,:-1].values\n",
    "classification_training =data.iloc[:,3].values\n",
    "x = preprocessing.LabelEncoder().fit_transform(classification_training)\n",
    "x = to_categorical(x)\n",
    "print(sentences_training.shape)"
   ]
  },
  {
   "cell_type": "code",
   "execution_count": 4,
   "metadata": {},
   "outputs": [
    {
     "name": "stdout",
     "output_type": "stream",
     "text": [
      "(196046, 3)\n",
      "(49011, 3)\n"
     ]
    }
   ],
   "source": [
    "from sklearn.model_selection import train_test_split\n",
    "x_train, x_test, y_train, y_test =train_test_split(sentences_training, x, test_size = 0.8)\n",
    "max_futures=1500\n",
    "maxlen=3\n",
    "batch_size=4096   \n",
    "embedding_dims=400\n",
    "epochs=5\n",
    "\n",
    "x_train=x_train/255\n",
    "x_test = x_test/255\n",
    "print(x_test.shape)\n",
    "print(x_train.shape)\n"
   ]
  },
  {
   "cell_type": "code",
   "execution_count": 5,
   "metadata": {},
   "outputs": [],
   "source": [
    "from keras.models import Sequential\n",
    "from keras.layers import Dense , Activation\n",
    "from keras.layers import Embedding\n",
    "from keras.layers import Conv1D,GlobalMaxPooling1D,Dropout,Flatten\n"
   ]
  },
  {
   "cell_type": "code",
   "execution_count": 6,
   "metadata": {
    "scrolled": false
   },
   "outputs": [
    {
     "name": "stdout",
     "output_type": "stream",
     "text": [
      "Model build..\n",
      "WARNING:tensorflow:From /Users/hp7tron/opt/anaconda3/lib/python3.7/site-packages/tensorflow/python/ops/resource_variable_ops.py:435: colocate_with (from tensorflow.python.framework.ops) is deprecated and will be removed in a future version.\n",
      "Instructions for updating:\n",
      "Colocations handled automatically by placer.\n",
      "Model: \"sequential_1\"\n",
      "_________________________________________________________________\n",
      "Layer (type)                 Output Shape              Param #   \n",
      "=================================================================\n",
      "embedding_1 (Embedding)      (None, 3, 400)            600000    \n",
      "_________________________________________________________________\n",
      "conv1d_1 (Conv1D)            (None, 1, 400)            480400    \n",
      "_________________________________________________________________\n",
      "global_max_pooling1d_1 (Glob (None, 400)               0         \n",
      "_________________________________________________________________\n",
      "dense_1 (Dense)              (None, 2)                 802       \n",
      "_________________________________________________________________\n",
      "activation_1 (Activation)    (None, 2)                 0         \n",
      "=================================================================\n",
      "Total params: 1,081,202\n",
      "Trainable params: 1,081,202\n",
      "Non-trainable params: 0\n",
      "_________________________________________________________________\n",
      "WARNING:tensorflow:From /Users/hp7tron/opt/anaconda3/lib/python3.7/site-packages/tensorflow/python/ops/math_ops.py:3066: to_int32 (from tensorflow.python.ops.math_ops) is deprecated and will be removed in a future version.\n",
      "Instructions for updating:\n",
      "Use tf.cast instead.\n",
      "WARNING:tensorflow:From /Users/hp7tron/opt/anaconda3/lib/python3.7/site-packages/tensorflow/python/ops/math_grad.py:102: div (from tensorflow.python.ops.math_ops) is deprecated and will be removed in a future version.\n",
      "Instructions for updating:\n",
      "Deprecated in favor of operator or tf.math.divide.\n",
      "Train on 49011 samples, validate on 196046 samples\n",
      "Epoch 1/5\n",
      "49011/49011 [==============================] - 18s 367us/step - loss: 0.5781 - accuracy: 0.7705 - val_loss: 0.5132 - val_accuracy: 0.7916\n",
      "Epoch 2/5\n",
      "49011/49011 [==============================] - 17s 339us/step - loss: 0.5056 - accuracy: 0.7958 - val_loss: 0.5114 - val_accuracy: 0.7916\n",
      "Epoch 3/5\n",
      "49011/49011 [==============================] - 16s 328us/step - loss: 0.5050 - accuracy: 0.7958 - val_loss: 0.5111 - val_accuracy: 0.7916\n",
      "Epoch 4/5\n",
      "49011/49011 [==============================] - 16s 325us/step - loss: 0.5047 - accuracy: 0.7958 - val_loss: 0.5110 - val_accuracy: 0.7916\n",
      "Epoch 5/5\n",
      "49011/49011 [==============================] - 16s 322us/step - loss: 0.5044 - accuracy: 0.7958 - val_loss: 0.5107 - val_accuracy: 0.7916\n"
     ]
    },
    {
     "data": {
      "text/plain": [
       "\"\\nmodel = Sequential()\\nmodel.add(Conv2D(32, (5, 5), activation='relu', input_shape=(245057, 3)))\\nmodel.add(MaxPooling2D(pool_size=(2, 2)))\\nmodel.add(Conv2D(64, (5, 5), activation='relu'))\\nmodel.add(MaxPooling2D(pool_size=(2, 2)))\\nmodel.add(Flatten())\\nmodel.add(Dense(1000, activation='relu'))\\nmodel.add(Dropout(0.5))\\nmodel.add(Dense(500, activation='relu'))\\nmodel.add(Dropout(0.5))\\nmodel.add(Dense(250, activation='relu'))\\nmodel.add(Dense(10, activation='softmax'))\\nmodel.compile(loss='categorical_crossentropy',optimizer='adam',metrics=['accuracy'])\\nt = model.fit(x_train, y_train,batch_size=256, epochs=10, validation_split=0.2 )\\n\""
      ]
     },
     "execution_count": 6,
     "metadata": {},
     "output_type": "execute_result"
    }
   ],
   "source": [
    "print('Model build..')\n",
    "\n",
    "\n",
    "\n",
    "model=Sequential()\n",
    "model.add(Embedding(max_futures, embedding_dims,input_length=maxlen))\n",
    "\n",
    "\n",
    "model.add(Conv1D(embedding_dims, 3, padding='valid', activation='relu', strides=1))\n",
    "model.add(GlobalMaxPooling1D())\n",
    "\n",
    "model.add(Dense(2))\n",
    "model.add(Activation('sigmoid'))\n",
    "\n",
    "model.compile(loss='binary_crossentropy', optimizer='Adadelta', metrics=['accuracy'])\n",
    "model.summary()\n",
    "history=model.fit(x_train, y_train, batch_size=batch_size, epochs=epochs, validation_data=(x_test, y_test))\n",
    "\n",
    "'''\n",
    "model=Sequential()\n",
    "\n",
    "model.add(Conv2D(64,(3,3),padding='same',input_shape=(122528,28,4)))\n",
    "model.add(Activation(\"relu\"))\n",
    "model.add(MaxPooling2D(pool_size=(2, 2)))\n",
    "\n",
    "\n",
    "model.add(Conv2D(64,(3,3)))\n",
    "model.add(Activation(\"relu\"))\n",
    "model.add(MaxPooling2D(pool_size=(2, 2)))\n",
    "\n",
    "model.add(Flatten())\n",
    "model.add(Dense(64))\n",
    "\n",
    "\n",
    "model.add(Dense(1))\n",
    "model.add(Activation('sigmoid'))\n",
    "    \n",
    "model.compile(loss='binary_crossentropy', optimizer='Adadelta', metrics=['accuracy'])\n",
    "model.summary()\n",
    "t=model.fit(x_train, y_train, batch_size=batch_size, epochs=epochs, validation_data=(x_test, y_test))\n",
    "\n",
    "'''\n",
    "'''\n",
    "model = Sequential()\n",
    "model.add(Conv2D(32, (5, 5), activation='relu', input_shape=(245057, 3)))\n",
    "model.add(MaxPooling2D(pool_size=(2, 2)))\n",
    "model.add(Conv2D(64, (5, 5), activation='relu'))\n",
    "model.add(MaxPooling2D(pool_size=(2, 2)))\n",
    "model.add(Flatten())\n",
    "model.add(Dense(1000, activation='relu'))\n",
    "model.add(Dropout(0.5))\n",
    "model.add(Dense(500, activation='relu'))\n",
    "model.add(Dropout(0.5))\n",
    "model.add(Dense(250, activation='relu'))\n",
    "model.add(Dense(10, activation='softmax'))\n",
    "model.compile(loss='categorical_crossentropy',optimizer='adam',metrics=['accuracy'])\n",
    "t = model.fit(x_train, y_train,batch_size=256, epochs=10, validation_split=0.2 )\n",
    "'''\n",
    "          "
   ]
  },
  {
   "cell_type": "code",
   "execution_count": 7,
   "metadata": {},
   "outputs": [
    {
     "name": "stdout",
     "output_type": "stream",
     "text": [
      "49012/49012 [==============================] - 2s 36us/step\n",
      "Loss/Accuracy : [0.5062416280462996, 0.7943156957626343]\n"
     ]
    }
   ],
   "source": [
    "la_ratio=model.evaluate(x_test,y_test)\n",
    "print('Loss/Accuracy :', la_ratio)\n"
   ]
  },
  {
   "cell_type": "code",
   "execution_count": 17,
   "metadata": {},
   "outputs": [
    {
     "name": "stderr",
     "output_type": "stream",
     "text": [
      "/Users/hp7tron/opt/anaconda3/lib/python3.7/site-packages/ipykernel_launcher.py:10: MatplotlibDeprecationWarning: Unrecognized location 'bottom left'. Falling back on 'best'; valid locations are\n",
      "\tbest\n",
      "\tupper right\n",
      "\tupper left\n",
      "\tlower left\n",
      "\tlower right\n",
      "\tright\n",
      "\tcenter left\n",
      "\tcenter right\n",
      "\tlower center\n",
      "\tupper center\n",
      "\tcenter\n",
      "This will raise an exception in 3.3.\n",
      "  # Remove the CWD from sys.path while we load stuff.\n"
     ]
    },
    {
     "data": {
      "image/png": "[encoded data removed]",
      "text/plain": [
       "<Figure size 432x288 with 1 Axes>"
      ]
     },
     "metadata": {
      "needs_background": "light"
     },
     "output_type": "display_data"
    },
    {
     "name": "stdout",
     "output_type": "stream",
     "text": [
      "None\n"
     ]
    }
   ],
   "source": [
    "from matplotlib import pyplot as plt\n",
    "\n",
    "\n",
    "plt.plot(t.history['accuracy'],color='b', label=\"Training accuracy\")\n",
    "plt.plot(t.history['val_accuracy'],color='y', label=\"Test accuracy\")\n",
    "plt.plot(t.history['loss'],color='g', label=\"Training loss\")\n",
    "plt.plot(t.history['val_loss'],color='r', label=\"Test accuracy\")\n",
    "plt.title('Model')\n",
    "plt.xlabel('Epoch')\n",
    "plt.legend(['Train Accuracy','Test Accuracy','Train Loss','Test Loss'],loc='bottom left')\n",
    "print(plt.show())"
   ]
  },
  {
   "cell_type": "code",
   "execution_count": 8,
   "metadata": {},
   "outputs": [
    {
     "name": "stdout",
     "output_type": "stream",
     "text": [
      "[[  424  9790]\n",
      " [  291 38507]]\n",
      "(<Figure size 432x288 with 1 Axes>, <matplotlib.axes._subplots.AxesSubplot object at 0x1a27c048d0>)\n"
     ]
    },
    {
     "data": {
      "image/png": "[encoded data removed]",
      "text/plain": [
       "<Figure size 432x288 with 1 Axes>"
      ]
     },
     "metadata": {
      "needs_background": "light"
     },
     "output_type": "display_data"
    }
   ],
   "source": [
    "from sklearn.metrics import confusion_matrix\n",
    "from mlxtend.plotting import plot_confusion_matrix\n",
    "import numpy as np\n",
    "\n",
    "rounded_pred = model.predict_classes(x_test, batch_size=128, verbose=0)\n",
    "rounded_labels=np.argmax(y_test, axis=1)\n",
    "print(confusion_matrix(rounded_labels,rounded_pred))\n",
    "print(plot_confusion_matrix(conf_mat=confusion_matrix(rounded_labels,rounded_pred)))"
   ]
  },
  {
   "cell_type": "code",
   "execution_count": 8,
   "metadata": {},
   "outputs": [
    {
     "data": {
      "image/png": "[encoded data removed]",
      "text/plain": [
       "<Figure size 432x288 with 1 Axes>"
      ]
     },
     "metadata": {
      "needs_background": "light"
     },
     "output_type": "display_data"
    }
   ],
   "source": [
    "#history = model.fit(...........)\n",
    "import matplotlib.pyplot as plt\n",
    "loss_train = history.history['accuracy']\n",
    "loss_val = history.history['val_accuracy']\n",
    "epochs = range(1,6)\n",
    "plt.plot(epochs, loss_train, 'g', label='Training accuracy')\n",
    "plt.plot(epochs, loss_val, 'b', label='validation accuracy')\n",
    "plt.title('Training and Validation accuracy')\n",
    "plt.xlabel('Epochs')\n",
    "plt.ylabel('Accuracy')\n",
    "plt.legend()\n",
    "plt.show()"
   ]
  },
  {
   "cell_type": "code",
   "execution_count": 10,
   "metadata": {},
   "outputs": [
    {
     "data": {
      "image/png": "[encoded data removed]",
      "text/plain": [
       "<Figure size 432x288 with 1 Axes>"
      ]
     },
     "metadata": {
      "needs_background": "light"
     },
     "output_type": "display_data"
    }
   ],
   "source": [
    "\n",
    "loss_train = history.history['loss']\n",
    "loss_val = history.history['val_loss']\n",
    "epochs = range(1,6)\n",
    "plt.plot(epochs, loss_train, 'g', label='Training Loss')\n",
    "plt.plot(epochs, loss_val, 'b', label='validation Loss')\n",
    "plt.title('Training and Validation loss')\n",
    "plt.xlabel('Epochs')\n",
    "plt.ylabel('val_loss')\n",
    "plt.legend()\n",
    "plt.show()"
   ]
  },
  {
   "cell_type": "code",
   "execution_count": null,
   "metadata": {},
   "outputs": [],
   "source": []
  }
 ],
 "metadata": {
  "kernelspec": {
   "display_name": "Python 3",
   "language": "python",
   "name": "python3"
  },
  "language_info": {
   "codemirror_mode": {
    "name": "ipython",
    "version": 3
   },
   "file_extension": ".py",
   "mimetype": "text/x-python",
   "name": "python",
   "nbconvert_exporter": "python",
   "pygments_lexer": "ipython3",
   "version": "3.7.6"
  }
 },
 "nbformat": 4,
 "nbformat_minor": 4
}
