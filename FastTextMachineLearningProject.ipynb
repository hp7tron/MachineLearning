{
 "cells": [
  {
   "cell_type": "code",
   "execution_count": 3,
   "metadata": {},
   "outputs": [],
   "source": [
    "\n",
    "import fasttext\n",
    "import pandas as pd \n",
    "from pandas import DataFrame as df\n",
    "import numpy as np\n",
    "from sklearn.model_selection import train_test_split\n",
    "from sklearn.metrics import confusion_matrix\n",
    "from mlxtend.plotting import plot_confusion_matrix\n",
    "\n"
   ]
  },
  {
   "cell_type": "code",
   "execution_count": 2,
   "metadata": {
    "scrolled": false
   },
   "outputs": [
    {
     "data": {
      "text/plain": [
       "'data  = pd.read_csv(\"tweetdata.csv\",sep=\\';\\', header=None, engine=\\'python\\')\\ndata.columns=[\\'sentence\\',\\'label\\',\\'gereksiz1\\',\\'gereksiz2\\',\\'gereksiz3\\']\\nfp = open(\\'tweetdataNew.csv\\',\\'wt\\',encoding=\\'utf8\\')\\n\\nfor i in range(len(data)):\\n    newSentence = \\'__label__\\'+data.label[i]+\\' \\'+data.sentence[i]+\\'\\n\\'.lower()\\n    fp.write(newSentence)\\n\\nfp.close() '"
      ]
     },
     "execution_count": 2,
     "metadata": {},
     "output_type": "execute_result"
    }
   ],
   "source": [
    "#veri setimizi fastText için uygun hale getiriyoruz\n",
    "'''data  = pd.read_csv(\"tweetdata.csv\",sep=';', header=None, engine='python')\n",
    "data.columns=['sentence','label','gereksiz1','gereksiz2','gereksiz3']\n",
    "fp = open('tweetdataNew.csv','wt',encoding='utf8')\n",
    "\n",
    "for i in range(len(data)):\n",
    "    newSentence = '__label__'+data.label[i]+' '+data.sentence[i]+'\\n'.lower()\n",
    "    fp.write(newSentence)\n",
    "\n",
    "fp.close() '''\n",
    "\n",
    "\n",
    "\n",
    "\n",
    "\n",
    "\n",
    "\n",
    "\n",
    "\n",
    "\n",
    "\n",
    "\n",
    "\n",
    "\n",
    "\n"
   ]
  },
  {
   "cell_type": "code",
   "execution_count": 4,
   "metadata": {},
   "outputs": [],
   "source": [
    "degisken= 16000\n",
    "def ayir(dosya,testsize):\n",
    "    num_lines = sum(1 for line in open('tweetdataNew.csv'))\n",
    "    count = 0\n",
    "    train=\"\"\n",
    "    test=\"\"\n",
    "    \n",
    "    with open(dosya, 'r') as f:\n",
    "        degisken=(num_lines/100)*(100-testsize)\n",
    "        for line in f:\n",
    "            if(count<(num_lines/100)*(100-testsize)): #train kısmı\n",
    "                train=train+line\n",
    "                \n",
    "            else:\n",
    "                test=test+line\n",
    "                 \n",
    "            count=count+ 1\n",
    "            \n",
    "    dosya = open('train.txt', 'w', encoding='utf-8')   # dosya erişimi\n",
    "    dosya.write(train)  # yazdırma işlemi\n",
    "    dosya.close()\n",
    "    dosya = open('test.txt', 'w', encoding='utf-8')   # dosya erişimi\n",
    "    dosya.write(test)  # yazdırma işlemi\n",
    "    dosya.close()\n",
    " \n",
    "\n",
    "\n",
    "\n",
    "ayir('tweetdataNew.csv',20)\n",
    "\n",
    "\n",
    "\n",
    "\n",
    "\n",
    "\n",
    "\n",
    "\n",
    "\n",
    "\n"
   ]
  },
  {
   "cell_type": "code",
   "execution_count": 5,
   "metadata": {},
   "outputs": [],
   "source": [
    "#epoch kaç tekrar\n",
    "#lr(learning rate) öğrenme hızı\n",
    "#loss fonksiyonumuz\n",
    "#dim dosyayı büyütüp eğitim süresini uzatıyoruz\n",
    "model = fasttext.train_supervised(input='train.txt', epoch=50, lr=0.5, wordNgrams=5,loss='hs',dim=300)\n",
    "\n",
    "\n",
    "\n"
   ]
  },
  {
   "cell_type": "code",
   "execution_count": 23,
   "metadata": {},
   "outputs": [
    {
     "data": {
      "text/plain": [
       "array([ 0.100613  , -0.24472724,  0.06629995, -0.13988744, -0.15099467,\n",
       "       -0.34131446,  0.1160081 , -0.19864295, -0.15626778, -0.12171253,\n",
       "        0.17928195, -0.29351616, -0.03990357, -0.13741203, -0.02328331,\n",
       "        0.20823991,  0.10883307,  0.07293598, -0.19071102,  0.1146113 ,\n",
       "       -0.1074357 , -0.1897343 , -0.04850731,  0.3301305 , -0.07421036,\n",
       "        0.23603936, -0.14311977,  0.15653747,  0.16530956, -0.18585795,\n",
       "        0.19180223,  0.07613494,  0.16299509, -0.00534383,  0.24527614,\n",
       "       -0.23494019, -0.01004079,  0.31040642,  0.00611177,  0.06788624,\n",
       "       -0.10742138, -0.02252656, -0.04069369,  0.16971067,  0.13923478,\n",
       "        0.02723301, -0.06573794,  0.2683624 ,  0.12158433, -0.09879725,\n",
       "        0.02047372, -0.07705228,  0.05980014,  0.25825688, -0.02998636,\n",
       "        0.3023175 ,  0.04269828, -0.23864959, -0.16354774,  0.060449  ,\n",
       "        0.07504527, -0.27206615, -0.22637476,  0.03705008,  0.22325587,\n",
       "       -0.01120648,  0.19704045, -0.2502453 , -0.10372165,  0.07259282,\n",
       "       -0.00994796, -0.28376916, -0.20271903, -0.12120984, -0.07603891,\n",
       "       -0.27551532,  0.00148425, -0.16110419, -0.13899279, -0.14445138,\n",
       "        0.34145978, -0.06067444, -0.34448674,  0.09133864, -0.13682741,\n",
       "        0.17665234,  0.00994889, -0.11763325,  0.14109541,  0.05343962,\n",
       "       -0.0595509 ,  0.05249457, -0.23552532, -0.0534475 , -0.0220864 ,\n",
       "        0.3236275 , -0.06485511, -0.11321022,  0.08384343,  0.10848267,\n",
       "       -0.02446066, -0.07698303, -0.12460021,  0.22877824, -0.31096834,\n",
       "       -0.4412462 ,  0.21472766,  0.14053828, -0.0663198 ,  0.31523368,\n",
       "        0.09228655,  0.08436937,  0.15603276, -0.04200383,  0.10103314,\n",
       "       -0.0954535 , -0.01334219, -0.12131415,  0.2393262 , -0.0657032 ,\n",
       "        0.00281294, -0.16571514, -0.01956445, -0.21688129,  0.1548742 ,\n",
       "        0.02355885, -0.07160264,  0.10018001,  0.12951979,  0.26131973,\n",
       "        0.1193944 , -0.02542608,  0.1984998 ,  0.24558035,  0.13945362,\n",
       "        0.09590447,  0.26680052, -0.12218516,  0.0016464 ,  0.15975827,\n",
       "        0.3314777 ,  0.02182043,  0.14694531, -0.09858134, -0.36368495,\n",
       "        0.04803956, -0.02065985, -0.34015888, -0.05231   , -0.04367173,\n",
       "        0.0051954 , -0.03459961, -0.2062123 , -0.40154448,  0.01679599,\n",
       "       -0.22745398,  0.19263019, -0.18863004,  0.07143298, -0.06833721,\n",
       "       -0.02754786, -0.11838087, -0.16234857, -0.08834128, -0.38813397,\n",
       "        0.13838084,  0.2080697 ,  0.33373535,  0.17064604,  0.10355417,\n",
       "       -0.04907521, -0.3365531 , -0.03564873,  0.05348982,  0.00727472,\n",
       "        0.33538327,  0.20559281,  0.10122431, -0.12777066, -0.01084799,\n",
       "       -0.10885678,  0.09296285,  0.05365752, -0.19130278, -0.20425183,\n",
       "       -0.1987543 ,  0.0272902 ,  0.28821287,  0.13328668, -0.17418781,\n",
       "        0.00957781,  0.01313721, -0.15781079,  0.01252623, -0.23354596,\n",
       "       -0.25339034,  0.13187404, -0.04698882,  0.3564638 ,  0.343619  ,\n",
       "       -0.21881588,  0.14840172, -0.0440961 ,  0.07613579, -0.13721721,\n",
       "        0.23407558,  0.20281777,  0.24644224, -0.3460607 , -0.21992134,\n",
       "        0.11593527, -0.25157067,  0.19636273,  0.10922755,  0.24358168,\n",
       "       -0.1972813 ,  0.09011231, -0.0917798 ,  0.04990972, -0.23105697,\n",
       "        0.04368158,  0.06719647,  0.06817766,  0.11139055,  0.17466505,\n",
       "       -0.01800317, -0.07454868,  0.10748865,  0.13231473, -0.2528544 ,\n",
       "       -0.04177944, -0.43010306,  0.23110653, -0.05390301,  0.12598036,\n",
       "        0.05152528,  0.1823291 , -0.1696104 ,  0.08724326, -0.31229675,\n",
       "        0.2944788 , -0.15467256, -0.04129958, -0.09633407, -0.1841652 ,\n",
       "       -0.14764304, -0.28581747, -0.06538819, -0.17408459, -0.32752496,\n",
       "        0.06806538,  0.09316667,  0.0153534 , -0.01242867,  0.09038096,\n",
       "       -0.02834725,  0.05026089, -0.03973531,  0.19284998,  0.20015298,\n",
       "       -0.08810232, -0.09936252, -0.48970366, -0.18510814,  0.12535326,\n",
       "       -0.11134841,  0.21684727,  0.1332412 , -0.06148999,  0.21868902,\n",
       "       -0.17597048, -0.18469372, -0.28613684,  0.2937799 ,  0.06130068,\n",
       "       -0.26697782, -0.19937548,  0.3232627 , -0.12094975,  0.26232246,\n",
       "       -0.46961433, -0.04702435,  0.12163772, -0.1270851 , -0.02799332,\n",
       "       -0.08578075, -0.04742968, -0.4081133 , -0.08670427,  0.03185736,\n",
       "        0.17586927,  0.08677894, -0.27941695, -0.13206843,  0.0040079 ,\n",
       "        0.02534369,  0.12873547, -0.15429603, -0.11492447, -0.24693932],\n",
       "      dtype=float32)"
      ]
     },
     "execution_count": 23,
     "metadata": {},
     "output_type": "execute_result"
    }
   ],
   "source": [
    "model.test_label('test.txt')\n",
    "model.get_word_vector('iyi')\n",
    "#model.get_output_matrix()"
   ]
  },
  {
   "cell_type": "code",
   "execution_count": 6,
   "metadata": {},
   "outputs": [
    {
     "name": "stdout",
     "output_type": "stream",
     "text": [
      "N\t3457\n",
      "P@1\t0.655\n",
      "R@1\t0.655\n"
     ]
    }
   ],
   "source": [
    "def print_results(N, p, r):\n",
    "    print(\"N\\t\" + str(N))\n",
    "    print(\"P@{}\\t{:.3f}\".format(1, p))\n",
    "    print(\"R@{}\\t{:.3f}\".format(1, r))\n",
    "   \n",
    "\n",
    "\n",
    "\n",
    "print_results(*model.test('test.txt'))\n",
    "\n"
   ]
  },
  {
   "cell_type": "code",
   "execution_count": 14,
   "metadata": {},
   "outputs": [
    {
     "data": {
      "text/plain": [
       "(('__label__olumsuz', '__label__notr'), array([0.97548032, 0.02453996]))"
      ]
     },
     "execution_count": 14,
     "metadata": {},
     "output_type": "execute_result"
    }
   ],
   "source": [
    "#k ile birden fazla label alınabiliyor\n",
    "model.predict(\" herhangi bir cümle \",k=3)"
   ]
  },
  {
   "cell_type": "code",
   "execution_count": 15,
   "metadata": {},
   "outputs": [
    {
     "name": "stderr",
     "output_type": "stream",
     "text": [
      "/Users/hp7tron/opt/anaconda3/lib/python3.7/site-packages/ipykernel_launcher.py:10: SettingWithCopyWarning: \n",
      "A value is trying to be set on a copy of a slice from a DataFrame.\n",
      "Try using .loc[row_indexer,col_indexer] = value instead\n",
      "\n",
      "See the caveats in the documentation: https://pandas.pydata.org/pandas-docs/stable/user_guide/indexing.html#returning-a-view-versus-a-copy\n",
      "  # Remove the CWD from sys.path while we load stuff.\n"
     ]
    },
    {
     "data": {
      "text/plain": [
       "array([[  0,   0,   0],\n",
       "       [271,   0,   0],\n",
       "       [129,   0,   0]])"
      ]
     },
     "execution_count": 15,
     "metadata": {},
     "output_type": "execute_result"
    }
   ],
   "source": [
    "df=pd.read_csv('tweetdata.csv',sep=';')\n",
    "df.columns=['sentence','labels','gereksiz1','gereksiz2','gereksiz3']\n",
    "\n",
    "\n",
    "testLabel=df[degisken-300 : degisken+100]\n",
    "testLabel.columns=['sentence','labels','gereksiz1','gereksiz2','gereksiz3']\n",
    "\n",
    "\n",
    "# predict the data\n",
    "testLabel[\"predicted\"] = testLabel['sentence'].apply(lambda x: model.predict(x)[0][0][0])\n",
    "\n",
    "# Create the confusion matrix\n",
    "confusion_matrix(testLabel[\"labels\"], testLabel[\"predicted\"])            \n",
    "                        "
   ]
  },
  {
   "cell_type": "code",
   "execution_count": null,
   "metadata": {},
   "outputs": [],
   "source": []
  }
 ],
 "metadata": {
  "kernelspec": {
   "display_name": "Python 3",
   "language": "python",
   "name": "python3"
  },
  "language_info": {
   "codemirror_mode": {
    "name": "ipython",
    "version": 3
   },
   "file_extension": ".py",
   "mimetype": "text/x-python",
   "name": "python",
   "nbconvert_exporter": "python",
   "pygments_lexer": "ipython3",
   "version": "3.7.6"
  }
 },
 "nbformat": 4,
 "nbformat_minor": 4
}
